{
 "cells": [
  {
   "cell_type": "code",
   "execution_count": 1,
   "metadata": {},
   "outputs": [],
   "source": [
    "# Numpy Exercises"
   ]
  },
  {
   "cell_type": "code",
   "execution_count": 26,
   "metadata": {},
   "outputs": [],
   "source": [
    "import numpy as np\n",
    "import math as math"
   ]
  },
  {
   "cell_type": "code",
   "execution_count": 3,
   "metadata": {},
   "outputs": [],
   "source": [
    "a = np.array([4, 10, 12, 23, -2, -1, 0, 0, 0, -6, 3, -7])"
   ]
  },
  {
   "cell_type": "code",
   "execution_count": 5,
   "metadata": {},
   "outputs": [
    {
     "data": {
      "text/plain": [
       "4"
      ]
     },
     "execution_count": 5,
     "metadata": {},
     "output_type": "execute_result"
    }
   ],
   "source": [
    "# How many negative numbers are there?\n",
    "negative_numbers = a[a < 0]\n",
    "len(negative_numbers)"
   ]
  },
  {
   "cell_type": "code",
   "execution_count": 6,
   "metadata": {},
   "outputs": [
    {
     "data": {
      "text/plain": [
       "5"
      ]
     },
     "execution_count": 6,
     "metadata": {},
     "output_type": "execute_result"
    }
   ],
   "source": [
    "# How many positive numbers are there?\n",
    "positive_numbers = a[a > 0]\n",
    "len(positive_numbers)"
   ]
  },
  {
   "cell_type": "code",
   "execution_count": 14,
   "metadata": {},
   "outputs": [
    {
     "data": {
      "text/plain": [
       "3"
      ]
     },
     "execution_count": 14,
     "metadata": {},
     "output_type": "execute_result"
    }
   ],
   "source": [
    "# How many even positive numbers are there?\n",
    "even_positive_numbers = positive_numbers[positive_numbers % 2 == 0]\n",
    "len(even_positive_numbers)"
   ]
  },
  {
   "cell_type": "code",
   "execution_count": 22,
   "metadata": {},
   "outputs": [
    {
     "data": {
      "text/plain": [
       "10"
      ]
     },
     "execution_count": 22,
     "metadata": {},
     "output_type": "execute_result"
    }
   ],
   "source": [
    "# If you were to add 3 to each data point, how many positive numbers would there be?\n",
    "a_plus_3 = a + 3\n",
    "positive_a_plus_3 = a_plus_3[a_plus_3 > 0]\n",
    "len(positive_a_plus_3)"
   ]
  },
  {
   "cell_type": "code",
   "execution_count": 32,
   "metadata": {},
   "outputs": [
    {
     "name": "stdout",
     "output_type": "stream",
     "text": [
      "Average = 74.0\n",
      "Standard deviation = 144.0243035046516\n"
     ]
    }
   ],
   "source": [
    "# If you squared each number, what would the new mean and standard deviation be?\n",
    "a_squared = a ** 2\n",
    "mean_a_squared = np.mean(a_squared)\n",
    "print('Average = ' + str(mean_a_squared))\n",
    "std_a_squared = np.std(a_squared)\n",
    "print('Standard deviation = ' + str(std_a_squared))"
   ]
  },
  {
   "cell_type": "code",
   "execution_count": 34,
   "metadata": {},
   "outputs": [],
   "source": [
    "# A common statistical operation on a dataset is centering. This means to adjust the data such \n",
    "# that the center of the data is at 0. This is done by subtracting the mean from each data point. \n",
    "# Center the data set."
   ]
  },
  {
   "cell_type": "code",
   "execution_count": 43,
   "metadata": {},
   "outputs": [
    {
     "name": "stdout",
     "output_type": "stream",
     "text": [
      "a = [ 4 10 12 23 -2 -1  0  0  0 -6  3 -7]\n",
      "3.0 is the mean of a.\n"
     ]
    },
    {
     "data": {
      "text/plain": [
       "[array([  1.,   7.,   9.,  20.,  -5.,  -4.,  -3.,  -3.,  -3.,  -9.,   0.,\n",
       "        -10.])]"
      ]
     },
     "execution_count": 43,
     "metadata": {},
     "output_type": "execute_result"
    }
   ],
   "source": [
    "mean_a = np.mean(a)\n",
    "print('a = ' + str(a))\n",
    "print(str(mean_a) + ' is the mean of a.')\n",
    "centered_a = [a - mean_a]\n",
    "centered_a"
   ]
  },
  {
   "cell_type": "code",
   "execution_count": 45,
   "metadata": {},
   "outputs": [
    {
     "data": {
      "text/plain": [
       "[array([ 0.12403473,  0.86824314,  1.11631261,  2.48069469, -0.62017367,\n",
       "        -0.49613894, -0.3721042 , -0.3721042 , -0.3721042 , -1.11631261,\n",
       "         0.        , -1.24034735])]"
      ]
     },
     "execution_count": 45,
     "metadata": {},
     "output_type": "execute_result"
    }
   ],
   "source": [
    "# Calculate the z-score for each data point. Recall that the z-score is given by:\n",
    "# Z = (x - mean) / std\n",
    "std_a = np.std(a)\n",
    "z_score = [(a - mean_a) / std_a]\n",
    "z_score"
   ]
  },
  {
   "cell_type": "code",
   "execution_count": 149,
   "metadata": {},
   "outputs": [
    {
     "name": "stdout",
     "output_type": "stream",
     "text": [
      "a = [1, 2, 3, 4, 5, 6, 7, 8, 9, 10]\n",
      "Sum of a = 55\n",
      "Min of a = 1\n",
      "Max of a = 10\n",
      "Mean of a = 5.5\n",
      "The product of all elements in a = 3628800\n",
      "The square roots of the elements in a = [1.0, 1.4142135623730951, 1.7320508075688772, 2.0, 2.23606797749979, 2.449489742783178, 2.6457513110645907, 2.8284271247461903, 3.0, 3.1622776601683795]\n",
      "The odd numbers in a = [1, 3, 5, 7, 9]\n",
      "The even numbers in d = [2, 4, 6, 8, 10]\n"
     ]
    }
   ],
   "source": [
    "## Setup 1\n",
    "a = [1, 2, 3, 4, 5, 6, 7, 8, 9, 10]\n",
    "print('a = ' + str(a))\n",
    "\n",
    "# Use python's built in functionality/operators to determine the following:\n",
    "# Exercise 1 - Make a variable called sum_of_a to hold the sum of all the numbers in above list\n",
    "\n",
    "sum_of_a = sum(a)\n",
    "print('Sum of a = ' + str(sum_of_a))\n",
    "\n",
    "# Exercise 2 - Make a variable named min_of_a to hold the minimum of all the numbers in the above list\n",
    "\n",
    "min_of_a = min(a)\n",
    "print('Min of a = ' + str(min_of_a))\n",
    "\n",
    "# Exercise 3 - Make a variable named max_of_a to hold the max number of all the numbers in the above list\n",
    "\n",
    "max_of_a = max(a)\n",
    "print('Max of a = ' + str(max_of_a))\n",
    "\n",
    "# Exercise 4 - Make a variable named mean_of_a to hold the average of all the numbers in the above list\n",
    "sum_of_a = 0\n",
    "for n in a:\n",
    "    sum_of_a += n\n",
    "mean_of_a = sum_of_a / len(a)\n",
    "print('Mean of a = ' + str(mean_of_a))\n",
    "\n",
    "# Exercise 5 - Make a variable named product_of_a to hold the product of multiplying all the numbers in the above list together\n",
    "\n",
    "product_of_a = 1\n",
    "for n in a:\n",
    "    product_of_a *= n\n",
    "\n",
    "print('The product of all elements in a = ' + str(product_of_a))\n",
    "\n",
    "# Exercise 6 - Make a variable named squares_of_a. It should hold each number in a squared like [1, 4, 9, 16, 25...]\n",
    "\n",
    "squares_of_a = []\n",
    "for n in a:\n",
    "    square_root = n ** (1/2)\n",
    "    squares_of_a.append(square_root)\n",
    "print('The square roots of the elements in a = ' + str(squares_of_a))\n",
    "\n",
    "# Exercise 7 - Make a variable named odds_in_a. It should hold only the odd numbers\n",
    "\n",
    "odds_in_a = []\n",
    "for n in a:\n",
    "    if n % 2 != 0:\n",
    "        odds_in_a.append(n)\n",
    "print('The odd numbers in a = ' + str(odds_in_a))\n",
    "\n",
    "# Exercise 8 - Make a variable named evens_in_a. It should hold only the evens.\n",
    "\n",
    "evens_in_a = []\n",
    "for n in a:\n",
    "    if n % 2 == 0:\n",
    "        evens_in_a.append(n)\n",
    "print('The even numbers in d = ' + str(evens_in_a))"
   ]
  },
  {
   "cell_type": "code",
   "execution_count": 100,
   "metadata": {},
   "outputs": [
    {
     "name": "stdout",
     "output_type": "stream",
     "text": [
      "b = \n",
      "[[3 4 5]\n",
      " [6 7 8]]\n",
      "Sum of b = 33\n",
      "The min of b = 3\n",
      "The max of b = 8\n",
      "The mean of b = 5.5\n",
      "The product of all elements of b = 20160\n",
      "The elements of b squared = \n",
      "[[ 9 16 25]\n",
      " [36 49 64]]\n",
      "The odds in b = [3 5 7]\n",
      "The evens in b = [4 6 8]\n",
      "The shape of b = (2, 3)\n",
      "B transposed = \n",
      "[[3 6]\n",
      " [4 7]\n",
      " [5 8]]\n",
      "B reshaped to a 1 x 6 = [[3 4 5 6 7 8]]\n",
      "B reshaped to 6 a 6 x 1 = \n",
      "[[3]\n",
      " [4]\n",
      " [5]\n",
      " [6]\n",
      " [7]\n",
      " [8]]\n"
     ]
    }
   ],
   "source": [
    "## Setup 2: Consider what it would take to find the sum, min, max, average, sum, product, and list of squares for this list of two lists.\n",
    "b = np.array([\n",
    "    [3, 4, 5],\n",
    "    [6, 7, 8]\n",
    "])\n",
    "print('b = \\n' +str(b))\n",
    "# Exercise 1 - refactor the following to use numpy. Use sum_of_b as the variable. **Hint, you'll first need to make sure that the \"b\" variable is a numpy array**\n",
    "sum_of_b = np.sum(b)\n",
    "print('Sum of b = ' + str(sum_of_b))\n",
    "\n",
    "# Exercise 2 - refactor the following to use numpy.  \n",
    "min_of_b = np.min(b)\n",
    "print('The min of b = ' + str(min_of_b))\n",
    "\n",
    "# Exercise 3 - refactor the following maximum calculation to find the answer with numpy.\n",
    "max_of_b = np.max(b)\n",
    "print('The max of b = ' + str(max_of_b))\n",
    "\n",
    "\n",
    "# Exercise 4 - refactor the following using numpy to find the mean of b\n",
    "mean_of_b = np.mean(b)\n",
    "print('The mean of b = ' + str(mean_of_b))\n",
    "\n",
    "\n",
    "# Exercise 5 - refactor the following to use numpy for calculating the product of all numbers multiplied together.\n",
    "product_of_b = np.prod(b)\n",
    "print('The product of all elements of b = ' + str(product_of_b))\n",
    "\n",
    "# Exercise 6 - refactor the following to use numpy to find the list of squares \n",
    "squares_of_b = np.square(b)\n",
    "print('The elements of b squared = \\n' + str(squares_of_b))\n",
    "\n",
    "# Exercise 7 - refactor using numpy to determine the odds_in_b\n",
    "odds_in_b = b[b % 2 != 0]\n",
    "print('The odds in b = ' + str(odds_in_b))\n",
    "\n",
    "# Exercise 8 - refactor the following to use numpy to filter only the even numbers\n",
    "evens_in_b = b[b % 2 == 0]\n",
    "print('The evens in b = ' + str(evens_in_b))\n",
    "\n",
    "# Exercise 9 - print out the shape of the array b.\n",
    "\n",
    "print('The shape of b = ' + str(np.shape(b)))\n",
    "\n",
    "# Exercise 10 - transpose the array b.\n",
    "\n",
    "b_transpose = np.transpose(b)\n",
    "print('B transposed = ' + '\\n' + str(b_transpose))\n",
    "\n",
    "# Exercise 11 - reshape the array b to be a single list of 6 numbers. (1 x 6)\n",
    "\n",
    "b_1x6 = np.reshape(b, (1, 6))\n",
    "print('B reshaped to a 1 x 6 = ' +str(b_1x6))\n",
    "\n",
    "# Exercise 12 - reshape the array b to be a list of 6 lists, each containing only 1 number (6 x 1)\n",
    "\n",
    "b_6x1 = np.reshape(b, (6, 1))\n",
    "print('B reshaped to 6 a 6 x 1 = \\n' + str(b_6x1))\n"
   ]
  },
  {
   "cell_type": "code",
   "execution_count": 115,
   "metadata": {},
   "outputs": [
    {
     "name": "stdout",
     "output_type": "stream",
     "text": [
      "c = \n",
      "[[1 2 3]\n",
      " [4 5 6]\n",
      " [7 8 9]]\n",
      "The min of c = 1\n",
      "The max of c = 9\n",
      "The product of c = 362880\n",
      "The std of c = 2.581988897471611\n",
      "The variance of c = 6.666666666666667\n",
      "The shape of c = (3, 3)\n",
      "The transpose of c = \n",
      "[[1 4 7]\n",
      " [2 5 8]\n",
      " [3 6 9]]\n",
      "The product of c * c_transposed = \n",
      "[[ 1  8 21]\n",
      " [ 8 25 48]\n",
      " [21 48 81]]\n",
      "The sum of the product of c * c_transposed = 261\n",
      "The product of c * c_transposed = 131681894400\n"
     ]
    }
   ],
   "source": [
    "## Setup 3\n",
    "c = np.array([\n",
    "    [1, 2, 3],\n",
    "    [4, 5, 6],\n",
    "    [7, 8, 9]\n",
    "])\n",
    "print('c = \\n' + str(c))\n",
    "# \n",
    "# Exercise 1 - Find the min, max, sum, and product of c.\n",
    "\n",
    "min_c = np.min(c)\n",
    "print('The min of c = ' + str(min_c))\n",
    "\n",
    "max_c = np.max(c)\n",
    "print('The max of c = ' + str(max_c))\n",
    "\n",
    "prod_c = np.prod(c)\n",
    "print('The product of c = ' + str(prod_c))\n",
    "\n",
    "# Exercise 2 - Determine the standard deviation of c.\n",
    "\n",
    "std_c = np.std(c)\n",
    "print('The std of c = ' + str(std_c))\n",
    "\n",
    "# Exercise 3 - Determine the variance of c.\n",
    "\n",
    "var_c = np.var(c)\n",
    "print('The variance of c = ' + str(var_c))\n",
    "\n",
    "# Exercise 4 - Print out the shape of the array c\n",
    "\n",
    "shape_c = np.shape(c)\n",
    "print('The shape of c = ' + str(shape_c))\n",
    "\n",
    "# Exercise 5 - Transpose c and print out transposed result.\n",
    "\n",
    "transpose_c = np.transpose(c)\n",
    "print('The transpose of c = \\n' + str(transpose_c))\n",
    "\n",
    "# Exercise 6 - Multiply c by the c-Transposed and print the result.\n",
    "\n",
    "prod_c_x_ctrasnposed = c * transpose_c\n",
    "print('The product of c * c_transposed = \\n' + str(prod_c_x_ctrasnposed))\n",
    "\n",
    "# Exercise 7 - Write the code necessary to sum up the result of c times c transposed. Answer should be 261\n",
    "\n",
    "sum_prod_c_x_ctransposed = np.sum(prod_c_x_ctrasnposed)\n",
    "print('The sum of the product of c * c_transposed = ' + str(sum_prod_c_x_ctransposed))\n",
    "\n",
    "# Exercise 8 - Write the code necessary to determine the product of c times c transposed. Answer should be 131681894400.\n",
    " \n",
    "prod_prod_c_x_ctransposed = np.prod(prod_c_x_ctrasnposed)\n",
    "print('The product of c * c_transposed = ' + str(prod_prod_c_x_ctransposed))\n"
   ]
  },
  {
   "cell_type": "code",
   "execution_count": 130,
   "metadata": {},
   "outputs": [
    {
     "name": "stdout",
     "output_type": "stream",
     "text": [
      "d = \n",
      "[[ 90  30  45   0 120 180]\n",
      " [ 45 -90 -30 270  90   0]\n",
      " [ 60  45 -45  90 -45 180]]\n",
      "The sin of d = \n",
      "[[ 0.89399666 -0.98803162  0.85090352  0.          0.58061118 -0.80115264]\n",
      " [ 0.85090352 -0.89399666  0.98803162 -0.17604595  0.89399666  0.        ]\n",
      " [-0.30481062  0.85090352 -0.85090352  0.89399666 -0.85090352 -0.80115264]]\n",
      "The cosine of d = \n",
      "[[-0.44807362  0.15425145  0.52532199  1.          0.81418097 -0.59846007]\n",
      " [ 0.52532199 -0.44807362  0.15425145  0.98438195 -0.44807362  1.        ]\n",
      " [-0.95241298  0.52532199  0.52532199 -0.44807362  0.52532199 -0.59846007]]\n",
      "The tan of d = \n",
      "[[-1.99520041 -6.4053312   1.61977519  0.          0.71312301  1.33869021]\n",
      " [ 1.61977519  1.99520041  6.4053312  -0.17883906 -1.99520041  0.        ]\n",
      " [ 0.32004039  1.61977519 -1.61977519 -1.99520041 -1.61977519  1.33869021]]\n",
      "The negative numbers in d = [-90 -30 -45 -45]\n",
      "The positive numbers in d = [ 90  30  45 120 180  45 270  90  60  45  90 180]\n",
      "The unique numbers in d = [-90 -45 -30   0  30  45  60  90 120 180 270]\n",
      "The number of unique numbers in d = 11\n",
      "The shape of d = (3, 6)\n",
      "The transpose of d = \n",
      "[[ 90  45  60]\n",
      " [ 30 -90  45]\n",
      " [ 45 -30 -45]\n",
      " [  0 270  90]\n",
      " [120  90 -45]\n",
      " [180   0 180]]\n",
      "The shape of the transpose of d = (6, 3)\n",
      "d reshaped into a 9 x 2 = \n",
      "[[ 90  30]\n",
      " [ 45   0]\n",
      " [120 180]\n",
      " [ 45 -90]\n",
      " [-30 270]\n",
      " [ 90   0]\n",
      " [ 60  45]\n",
      " [-45  90]\n",
      " [-45 180]]\n"
     ]
    }
   ],
   "source": [
    "## Setup 4\n",
    "d = np.array([\n",
    "    [90, 30, 45, 0, 120, 180],\n",
    "    [45, -90, -30, 270, 90, 0],\n",
    "    [60, 45, -45, 90, -45, 180]\n",
    "])\n",
    "print('d = \\n' + str(d))\n",
    "\n",
    "# Exercise 1 - Find the sine of all the numbers in d\n",
    "\n",
    "sine_d = np.sin(d)\n",
    "print('The sin of d = \\n' + str(sine_d))\n",
    "\n",
    "# Exercise 2 - Find the cosine of all the numbers in d\n",
    "\n",
    "cosine_d = np.cos(d)\n",
    "print('The cosine of d = \\n' + str(cosine_d))\n",
    "\n",
    "# Exercise 3 - Find the tangent of all the numbers in d\n",
    "\n",
    "tangent_d = np.tan(d)\n",
    "print('The tan of d = \\n' + str(tangent_d))\n",
    "\n",
    "# Exercise 4 - Find all the negative numbers in d\n",
    "\n",
    "negative_d = d[d < 0]\n",
    "print('The negative numbers in d = ' + str(negative_d))\n",
    "\n",
    "# Exercise 5 - Find all the positive numbers in d\n",
    "\n",
    "positive_d = d[d > 0]\n",
    "print('The positive numbers in d = ' + str(positive_d))\n",
    "\n",
    "# Exercise 6 - Return an array of only the unique numbers in d.\n",
    "\n",
    "unique_d = np.unique(d)\n",
    "print('The unique numbers in d = ' + str(unique_d))\n",
    "\n",
    "# Exercise 7 - Determine how many unique numbers there are in d.\n",
    "\n",
    "len_unique_d = len(unique_d)\n",
    "print('The number of unique numbers in d = ' + str(len_unique_d))\n",
    "\n",
    "# Exercise 8 - Print out the shape of d.\n",
    "\n",
    "shape_d = np.shape(d)\n",
    "print('The shape of d = ' + str(shape_d))\n",
    "\n",
    "# Exercise 9 - Transpose and then print out the shape of d.\n",
    "\n",
    "transpose_d = np.transpose(d)\n",
    "print('The transpose of d = \\n' + str(transpose_d))\n",
    "shape_transpose_d = np.shape(transpose_d)\n",
    "print('The shape of the transpose of d = ' + str(shape_transpose_d))\n",
    "\n",
    "# Exercise 10 - Reshape d into an array of 9 x 2\n",
    "\n",
    "rs_d_9x2 = np.reshape(d, (9,2))\n",
    "print('d reshaped into a 9 x 2 = \\n' + str(rs_d_9x2))"
   ]
  },
  {
   "cell_type": "code",
   "execution_count": null,
   "metadata": {},
   "outputs": [],
   "source": []
  }
 ],
 "metadata": {
  "kernelspec": {
   "display_name": "Python 3",
   "language": "python",
   "name": "python3"
  },
  "language_info": {
   "codemirror_mode": {
    "name": "ipython",
    "version": 3
   },
   "file_extension": ".py",
   "mimetype": "text/x-python",
   "name": "python",
   "nbconvert_exporter": "python",
   "pygments_lexer": "ipython3",
   "version": "3.7.1"
  }
 },
 "nbformat": 4,
 "nbformat_minor": 2
}
