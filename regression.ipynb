{
 "cells": [
  {
   "cell_type": "code",
   "execution_count": 1,
   "metadata": {},
   "outputs": [],
   "source": [
    "def get_db_url(db, user, host, password):\n",
    "    from sqlalchemy import create_engine\n",
    "    url = f'mysql+pymysql://{user}:{password}@{host}/{db}'\n",
    "    return create_engine(url)"
   ]
  },
  {
   "cell_type": "code",
   "execution_count": 2,
   "metadata": {},
   "outputs": [],
   "source": [
    "import pandas as pd\n",
    "from env import user, host, password"
   ]
  },
  {
   "cell_type": "code",
   "execution_count": 3,
   "metadata": {},
   "outputs": [],
   "source": [
    "conn1 = get_db_url('telco_churn', user, host, password)"
   ]
  },
  {
   "cell_type": "code",
   "execution_count": 4,
   "metadata": {},
   "outputs": [],
   "source": [
    "import warnings\n",
    "warnings.filterwarnings(\"ignore\")\n",
    "import pandas as pd\n",
    "import scipy.stats as stats\n",
    "%matplotlib inline\n",
    "import matplotlib.pyplot as plt\n",
    "import seaborn as sns\n",
    "plt.style.use('classic')\n",
    "import statsmodels.api as sm\n",
    "from scipy.stats import pearsonr\n",
    "from sklearn.model_selection import train_test_split\n",
    "from sklearn.linear_model import LinearRegression\n",
    "from sklearn.metrics import mean_squared_error, r2_score, mean_absolute_error, median_absolute_error"
   ]
  },
  {
   "cell_type": "code",
   "execution_count": 5,
   "metadata": {},
   "outputs": [
    {
     "data": {
      "text/html": [
       "<div>\n",
       "<style scoped>\n",
       "    .dataframe tbody tr th:only-of-type {\n",
       "        vertical-align: middle;\n",
       "    }\n",
       "\n",
       "    .dataframe tbody tr th {\n",
       "        vertical-align: top;\n",
       "    }\n",
       "\n",
       "    .dataframe thead th {\n",
       "        text-align: right;\n",
       "    }\n",
       "</style>\n",
       "<table border=\"1\" class=\"dataframe\">\n",
       "  <thead>\n",
       "    <tr style=\"text-align: right;\">\n",
       "      <th></th>\n",
       "      <th>Field</th>\n",
       "      <th>Type</th>\n",
       "      <th>Null</th>\n",
       "      <th>Key</th>\n",
       "      <th>Default</th>\n",
       "      <th>Extra</th>\n",
       "    </tr>\n",
       "  </thead>\n",
       "  <tbody>\n",
       "    <tr>\n",
       "      <th>0</th>\n",
       "      <td>customer_id</td>\n",
       "      <td>char(10)</td>\n",
       "      <td>NO</td>\n",
       "      <td>PRI</td>\n",
       "      <td>None</td>\n",
       "      <td></td>\n",
       "    </tr>\n",
       "    <tr>\n",
       "      <th>1</th>\n",
       "      <td>gender</td>\n",
       "      <td>text</td>\n",
       "      <td>YES</td>\n",
       "      <td></td>\n",
       "      <td>None</td>\n",
       "      <td></td>\n",
       "    </tr>\n",
       "    <tr>\n",
       "      <th>2</th>\n",
       "      <td>senior_citizen</td>\n",
       "      <td>bigint(20)</td>\n",
       "      <td>YES</td>\n",
       "      <td></td>\n",
       "      <td>None</td>\n",
       "      <td></td>\n",
       "    </tr>\n",
       "    <tr>\n",
       "      <th>3</th>\n",
       "      <td>partner</td>\n",
       "      <td>text</td>\n",
       "      <td>YES</td>\n",
       "      <td></td>\n",
       "      <td>None</td>\n",
       "      <td></td>\n",
       "    </tr>\n",
       "    <tr>\n",
       "      <th>4</th>\n",
       "      <td>dependents</td>\n",
       "      <td>text</td>\n",
       "      <td>YES</td>\n",
       "      <td></td>\n",
       "      <td>None</td>\n",
       "      <td></td>\n",
       "    </tr>\n",
       "    <tr>\n",
       "      <th>5</th>\n",
       "      <td>tenure</td>\n",
       "      <td>bigint(20)</td>\n",
       "      <td>YES</td>\n",
       "      <td></td>\n",
       "      <td>None</td>\n",
       "      <td></td>\n",
       "    </tr>\n",
       "    <tr>\n",
       "      <th>6</th>\n",
       "      <td>phone_service</td>\n",
       "      <td>text</td>\n",
       "      <td>YES</td>\n",
       "      <td></td>\n",
       "      <td>None</td>\n",
       "      <td></td>\n",
       "    </tr>\n",
       "    <tr>\n",
       "      <th>7</th>\n",
       "      <td>multiple_lines</td>\n",
       "      <td>text</td>\n",
       "      <td>YES</td>\n",
       "      <td></td>\n",
       "      <td>None</td>\n",
       "      <td></td>\n",
       "    </tr>\n",
       "    <tr>\n",
       "      <th>8</th>\n",
       "      <td>internet_service_type_id</td>\n",
       "      <td>bigint(20)</td>\n",
       "      <td>YES</td>\n",
       "      <td>MUL</td>\n",
       "      <td>None</td>\n",
       "      <td></td>\n",
       "    </tr>\n",
       "    <tr>\n",
       "      <th>9</th>\n",
       "      <td>online_security</td>\n",
       "      <td>text</td>\n",
       "      <td>YES</td>\n",
       "      <td></td>\n",
       "      <td>None</td>\n",
       "      <td></td>\n",
       "    </tr>\n",
       "    <tr>\n",
       "      <th>10</th>\n",
       "      <td>online_backup</td>\n",
       "      <td>text</td>\n",
       "      <td>YES</td>\n",
       "      <td></td>\n",
       "      <td>None</td>\n",
       "      <td></td>\n",
       "    </tr>\n",
       "    <tr>\n",
       "      <th>11</th>\n",
       "      <td>device_protection</td>\n",
       "      <td>text</td>\n",
       "      <td>YES</td>\n",
       "      <td></td>\n",
       "      <td>None</td>\n",
       "      <td></td>\n",
       "    </tr>\n",
       "    <tr>\n",
       "      <th>12</th>\n",
       "      <td>tech_support</td>\n",
       "      <td>text</td>\n",
       "      <td>YES</td>\n",
       "      <td></td>\n",
       "      <td>None</td>\n",
       "      <td></td>\n",
       "    </tr>\n",
       "    <tr>\n",
       "      <th>13</th>\n",
       "      <td>streaming_tv</td>\n",
       "      <td>text</td>\n",
       "      <td>YES</td>\n",
       "      <td></td>\n",
       "      <td>None</td>\n",
       "      <td></td>\n",
       "    </tr>\n",
       "    <tr>\n",
       "      <th>14</th>\n",
       "      <td>streaming_movies</td>\n",
       "      <td>text</td>\n",
       "      <td>YES</td>\n",
       "      <td></td>\n",
       "      <td>None</td>\n",
       "      <td></td>\n",
       "    </tr>\n",
       "    <tr>\n",
       "      <th>15</th>\n",
       "      <td>contract_type_id</td>\n",
       "      <td>bigint(20)</td>\n",
       "      <td>YES</td>\n",
       "      <td>MUL</td>\n",
       "      <td>None</td>\n",
       "      <td></td>\n",
       "    </tr>\n",
       "    <tr>\n",
       "      <th>16</th>\n",
       "      <td>paperless_billing</td>\n",
       "      <td>text</td>\n",
       "      <td>YES</td>\n",
       "      <td></td>\n",
       "      <td>None</td>\n",
       "      <td></td>\n",
       "    </tr>\n",
       "    <tr>\n",
       "      <th>17</th>\n",
       "      <td>payment_type_id</td>\n",
       "      <td>bigint(20)</td>\n",
       "      <td>YES</td>\n",
       "      <td>MUL</td>\n",
       "      <td>None</td>\n",
       "      <td></td>\n",
       "    </tr>\n",
       "    <tr>\n",
       "      <th>18</th>\n",
       "      <td>monthly_charges</td>\n",
       "      <td>double</td>\n",
       "      <td>YES</td>\n",
       "      <td></td>\n",
       "      <td>None</td>\n",
       "      <td></td>\n",
       "    </tr>\n",
       "    <tr>\n",
       "      <th>19</th>\n",
       "      <td>total_charges</td>\n",
       "      <td>text</td>\n",
       "      <td>YES</td>\n",
       "      <td></td>\n",
       "      <td>None</td>\n",
       "      <td></td>\n",
       "    </tr>\n",
       "    <tr>\n",
       "      <th>20</th>\n",
       "      <td>churn</td>\n",
       "      <td>text</td>\n",
       "      <td>YES</td>\n",
       "      <td></td>\n",
       "      <td>None</td>\n",
       "      <td></td>\n",
       "    </tr>\n",
       "  </tbody>\n",
       "</table>\n",
       "</div>"
      ],
      "text/plain": [
       "                       Field        Type Null  Key Default Extra\n",
       "0                customer_id    char(10)   NO  PRI    None      \n",
       "1                     gender        text  YES         None      \n",
       "2             senior_citizen  bigint(20)  YES         None      \n",
       "3                    partner        text  YES         None      \n",
       "4                 dependents        text  YES         None      \n",
       "5                     tenure  bigint(20)  YES         None      \n",
       "6              phone_service        text  YES         None      \n",
       "7             multiple_lines        text  YES         None      \n",
       "8   internet_service_type_id  bigint(20)  YES  MUL    None      \n",
       "9            online_security        text  YES         None      \n",
       "10             online_backup        text  YES         None      \n",
       "11         device_protection        text  YES         None      \n",
       "12              tech_support        text  YES         None      \n",
       "13              streaming_tv        text  YES         None      \n",
       "14          streaming_movies        text  YES         None      \n",
       "15          contract_type_id  bigint(20)  YES  MUL    None      \n",
       "16         paperless_billing        text  YES         None      \n",
       "17           payment_type_id  bigint(20)  YES  MUL    None      \n",
       "18           monthly_charges      double  YES         None      \n",
       "19             total_charges        text  YES         None      \n",
       "20                     churn        text  YES         None      "
      ]
     },
     "execution_count": 5,
     "metadata": {},
     "output_type": "execute_result"
    }
   ],
   "source": [
    "telco_read = pd.read_sql('describe customers;', conn1)\n",
    "telco_read"
   ]
  },
  {
   "cell_type": "code",
   "execution_count": 6,
   "metadata": {},
   "outputs": [
    {
     "data": {
      "text/html": [
       "<div>\n",
       "<style scoped>\n",
       "    .dataframe tbody tr th:only-of-type {\n",
       "        vertical-align: middle;\n",
       "    }\n",
       "\n",
       "    .dataframe tbody tr th {\n",
       "        vertical-align: top;\n",
       "    }\n",
       "\n",
       "    .dataframe thead th {\n",
       "        text-align: right;\n",
       "    }\n",
       "</style>\n",
       "<table border=\"1\" class=\"dataframe\">\n",
       "  <thead>\n",
       "    <tr style=\"text-align: right;\">\n",
       "      <th></th>\n",
       "      <th>customer_id</th>\n",
       "      <th>tenure</th>\n",
       "      <th>monthly_charges</th>\n",
       "      <th>total_charges</th>\n",
       "    </tr>\n",
       "  </thead>\n",
       "  <tbody>\n",
       "    <tr>\n",
       "      <th>0</th>\n",
       "      <td>0013-SMEOE</td>\n",
       "      <td>71</td>\n",
       "      <td>109.70</td>\n",
       "      <td>7904.25</td>\n",
       "    </tr>\n",
       "    <tr>\n",
       "      <th>1</th>\n",
       "      <td>0014-BMAQU</td>\n",
       "      <td>63</td>\n",
       "      <td>84.65</td>\n",
       "      <td>5377.8</td>\n",
       "    </tr>\n",
       "    <tr>\n",
       "      <th>2</th>\n",
       "      <td>0016-QLJIS</td>\n",
       "      <td>65</td>\n",
       "      <td>90.45</td>\n",
       "      <td>5957.9</td>\n",
       "    </tr>\n",
       "    <tr>\n",
       "      <th>3</th>\n",
       "      <td>0017-DINOC</td>\n",
       "      <td>54</td>\n",
       "      <td>45.20</td>\n",
       "      <td>2460.55</td>\n",
       "    </tr>\n",
       "    <tr>\n",
       "      <th>4</th>\n",
       "      <td>0017-IUDMW</td>\n",
       "      <td>72</td>\n",
       "      <td>116.80</td>\n",
       "      <td>8456.75</td>\n",
       "    </tr>\n",
       "    <tr>\n",
       "      <th>5</th>\n",
       "      <td>0019-EFAEP</td>\n",
       "      <td>72</td>\n",
       "      <td>101.30</td>\n",
       "      <td>7261.25</td>\n",
       "    </tr>\n",
       "    <tr>\n",
       "      <th>6</th>\n",
       "      <td>0019-GFNTW</td>\n",
       "      <td>56</td>\n",
       "      <td>45.05</td>\n",
       "      <td>2560.1</td>\n",
       "    </tr>\n",
       "    <tr>\n",
       "      <th>7</th>\n",
       "      <td>0020-INWCK</td>\n",
       "      <td>71</td>\n",
       "      <td>95.75</td>\n",
       "      <td>6849.4</td>\n",
       "    </tr>\n",
       "    <tr>\n",
       "      <th>8</th>\n",
       "      <td>0040-HALCW</td>\n",
       "      <td>54</td>\n",
       "      <td>20.40</td>\n",
       "      <td>1090.6</td>\n",
       "    </tr>\n",
       "    <tr>\n",
       "      <th>9</th>\n",
       "      <td>0042-RLHYP</td>\n",
       "      <td>69</td>\n",
       "      <td>19.70</td>\n",
       "      <td>1396.9</td>\n",
       "    </tr>\n",
       "  </tbody>\n",
       "</table>\n",
       "</div>"
      ],
      "text/plain": [
       "  customer_id  tenure  monthly_charges total_charges\n",
       "0  0013-SMEOE      71           109.70       7904.25\n",
       "1  0014-BMAQU      63            84.65        5377.8\n",
       "2  0016-QLJIS      65            90.45        5957.9\n",
       "3  0017-DINOC      54            45.20       2460.55\n",
       "4  0017-IUDMW      72           116.80       8456.75\n",
       "5  0019-EFAEP      72           101.30       7261.25\n",
       "6  0019-GFNTW      56            45.05        2560.1\n",
       "7  0020-INWCK      71            95.75        6849.4\n",
       "8  0040-HALCW      54            20.40        1090.6\n",
       "9  0042-RLHYP      69            19.70        1396.9"
      ]
     },
     "execution_count": 6,
     "metadata": {},
     "output_type": "execute_result"
    }
   ],
   "source": [
    "telco = pd.read_sql('select customer_id, tenure, monthly_charges, total_charges from customers where contract_type_id = 3;', conn1)\n",
    "telco.head(10)"
   ]
  },
  {
   "cell_type": "code",
   "execution_count": 7,
   "metadata": {},
   "outputs": [
    {
     "data": {
      "text/plain": [
       "1695"
      ]
     },
     "execution_count": 7,
     "metadata": {},
     "output_type": "execute_result"
    }
   ],
   "source": [
    "# How many rows are in your dataframe?\n",
    "telco.shape[0]"
   ]
  },
  {
   "cell_type": "code",
   "execution_count": 8,
   "metadata": {},
   "outputs": [
    {
     "data": {
      "text/plain": [
       "customer_id         object\n",
       "tenure               int64\n",
       "monthly_charges    float64\n",
       "total_charges       object\n",
       "dtype: object"
      ]
     },
     "execution_count": 8,
     "metadata": {},
     "output_type": "execute_result"
    }
   ],
   "source": [
    "telco.dtypes"
   ]
  },
  {
   "cell_type": "code",
   "execution_count": 9,
   "metadata": {},
   "outputs": [
    {
     "data": {
      "text/plain": [
       "dtype('O')"
      ]
     },
     "execution_count": 9,
     "metadata": {},
     "output_type": "execute_result"
    }
   ],
   "source": [
    "# What is the data type of the field containing the customer ids?\n",
    "telco.dtypes['customer_id']"
   ]
  },
  {
   "cell_type": "code",
   "execution_count": 10,
   "metadata": {},
   "outputs": [
    {
     "data": {
      "text/html": [
       "<div>\n",
       "<style scoped>\n",
       "    .dataframe tbody tr th:only-of-type {\n",
       "        vertical-align: middle;\n",
       "    }\n",
       "\n",
       "    .dataframe tbody tr th {\n",
       "        vertical-align: top;\n",
       "    }\n",
       "\n",
       "    .dataframe thead th {\n",
       "        text-align: right;\n",
       "    }\n",
       "</style>\n",
       "<table border=\"1\" class=\"dataframe\">\n",
       "  <thead>\n",
       "    <tr style=\"text-align: right;\">\n",
       "      <th></th>\n",
       "      <th>customer_id</th>\n",
       "      <th>tenure</th>\n",
       "      <th>monthly_charges</th>\n",
       "      <th>total_charges</th>\n",
       "    </tr>\n",
       "  </thead>\n",
       "  <tbody>\n",
       "    <tr>\n",
       "      <th>1685</th>\n",
       "      <td>9945-PSVIP</td>\n",
       "      <td>25</td>\n",
       "      <td>18.70</td>\n",
       "      <td>383.65</td>\n",
       "    </tr>\n",
       "    <tr>\n",
       "      <th>1686</th>\n",
       "      <td>9950-MTGYX</td>\n",
       "      <td>28</td>\n",
       "      <td>20.30</td>\n",
       "      <td>487.95</td>\n",
       "    </tr>\n",
       "    <tr>\n",
       "      <th>1687</th>\n",
       "      <td>9953-ZMKSM</td>\n",
       "      <td>63</td>\n",
       "      <td>25.25</td>\n",
       "      <td>1559.3</td>\n",
       "    </tr>\n",
       "    <tr>\n",
       "      <th>1688</th>\n",
       "      <td>9958-MEKUC</td>\n",
       "      <td>72</td>\n",
       "      <td>103.95</td>\n",
       "      <td>7517.7</td>\n",
       "    </tr>\n",
       "    <tr>\n",
       "      <th>1689</th>\n",
       "      <td>9959-WOFKT</td>\n",
       "      <td>71</td>\n",
       "      <td>106.70</td>\n",
       "      <td>7382.25</td>\n",
       "    </tr>\n",
       "    <tr>\n",
       "      <th>1690</th>\n",
       "      <td>9964-WBQDJ</td>\n",
       "      <td>71</td>\n",
       "      <td>24.40</td>\n",
       "      <td>1725.4</td>\n",
       "    </tr>\n",
       "    <tr>\n",
       "      <th>1691</th>\n",
       "      <td>9972-EWRJS</td>\n",
       "      <td>67</td>\n",
       "      <td>19.25</td>\n",
       "      <td>1372.9</td>\n",
       "    </tr>\n",
       "    <tr>\n",
       "      <th>1692</th>\n",
       "      <td>9975-GPKZU</td>\n",
       "      <td>46</td>\n",
       "      <td>19.75</td>\n",
       "      <td>856.5</td>\n",
       "    </tr>\n",
       "    <tr>\n",
       "      <th>1693</th>\n",
       "      <td>9993-LHIEB</td>\n",
       "      <td>67</td>\n",
       "      <td>67.85</td>\n",
       "      <td>4627.65</td>\n",
       "    </tr>\n",
       "    <tr>\n",
       "      <th>1694</th>\n",
       "      <td>9995-HOTOH</td>\n",
       "      <td>63</td>\n",
       "      <td>59.00</td>\n",
       "      <td>3707.6</td>\n",
       "    </tr>\n",
       "  </tbody>\n",
       "</table>\n",
       "</div>"
      ],
      "text/plain": [
       "     customer_id  tenure  monthly_charges total_charges\n",
       "1685  9945-PSVIP      25            18.70        383.65\n",
       "1686  9950-MTGYX      28            20.30        487.95\n",
       "1687  9953-ZMKSM      63            25.25        1559.3\n",
       "1688  9958-MEKUC      72           103.95        7517.7\n",
       "1689  9959-WOFKT      71           106.70       7382.25\n",
       "1690  9964-WBQDJ      71            24.40        1725.4\n",
       "1691  9972-EWRJS      67            19.25        1372.9\n",
       "1692  9975-GPKZU      46            19.75         856.5\n",
       "1693  9993-LHIEB      67            67.85       4627.65\n",
       "1694  9995-HOTOH      63            59.00        3707.6"
      ]
     },
     "execution_count": 10,
     "metadata": {},
     "output_type": "execute_result"
    }
   ],
   "source": [
    "# Print to the notebook the last 10 rows of your dataframe.\n",
    "telco.tail(10)"
   ]
  },
  {
   "cell_type": "code",
   "execution_count": 11,
   "metadata": {},
   "outputs": [
    {
     "data": {
      "text/html": [
       "<div>\n",
       "<style scoped>\n",
       "    .dataframe tbody tr th:only-of-type {\n",
       "        vertical-align: middle;\n",
       "    }\n",
       "\n",
       "    .dataframe tbody tr th {\n",
       "        vertical-align: top;\n",
       "    }\n",
       "\n",
       "    .dataframe thead th {\n",
       "        text-align: right;\n",
       "    }\n",
       "</style>\n",
       "<table border=\"1\" class=\"dataframe\">\n",
       "  <thead>\n",
       "    <tr style=\"text-align: right;\">\n",
       "      <th></th>\n",
       "      <th>customer_id</th>\n",
       "      <th>tenure</th>\n",
       "      <th>monthly_charges</th>\n",
       "      <th>total_charges</th>\n",
       "    </tr>\n",
       "  </thead>\n",
       "  <tbody>\n",
       "    <tr>\n",
       "      <th>0</th>\n",
       "      <td>0013-SMEOE</td>\n",
       "      <td>71</td>\n",
       "      <td>109.70</td>\n",
       "      <td>7904.25</td>\n",
       "    </tr>\n",
       "    <tr>\n",
       "      <th>1</th>\n",
       "      <td>0014-BMAQU</td>\n",
       "      <td>63</td>\n",
       "      <td>84.65</td>\n",
       "      <td>5377.80</td>\n",
       "    </tr>\n",
       "    <tr>\n",
       "      <th>2</th>\n",
       "      <td>0016-QLJIS</td>\n",
       "      <td>65</td>\n",
       "      <td>90.45</td>\n",
       "      <td>5957.90</td>\n",
       "    </tr>\n",
       "    <tr>\n",
       "      <th>3</th>\n",
       "      <td>0017-DINOC</td>\n",
       "      <td>54</td>\n",
       "      <td>45.20</td>\n",
       "      <td>2460.55</td>\n",
       "    </tr>\n",
       "    <tr>\n",
       "      <th>4</th>\n",
       "      <td>0017-IUDMW</td>\n",
       "      <td>72</td>\n",
       "      <td>116.80</td>\n",
       "      <td>8456.75</td>\n",
       "    </tr>\n",
       "  </tbody>\n",
       "</table>\n",
       "</div>"
      ],
      "text/plain": [
       "  customer_id  tenure  monthly_charges  total_charges\n",
       "0  0013-SMEOE      71           109.70        7904.25\n",
       "1  0014-BMAQU      63            84.65        5377.80\n",
       "2  0016-QLJIS      65            90.45        5957.90\n",
       "3  0017-DINOC      54            45.20        2460.55\n",
       "4  0017-IUDMW      72           116.80        8456.75"
      ]
     },
     "execution_count": 11,
     "metadata": {},
     "output_type": "execute_result"
    }
   ],
   "source": [
    "telco['total_charges'] = telco['total_charges'].convert_objects(convert_numeric=True)\n",
    "telco.head()"
   ]
  },
  {
   "cell_type": "code",
   "execution_count": 12,
   "metadata": {},
   "outputs": [
    {
     "data": {
      "text/plain": [
       "customer_id         object\n",
       "tenure               int64\n",
       "monthly_charges    float64\n",
       "total_charges      float64\n",
       "dtype: object"
      ]
     },
     "execution_count": 12,
     "metadata": {},
     "output_type": "execute_result"
    }
   ],
   "source": [
    "telco.dtypes"
   ]
  },
  {
   "cell_type": "code",
   "execution_count": 13,
   "metadata": {},
   "outputs": [
    {
     "name": "stdout",
     "output_type": "stream",
     "text": [
      "Tenure IQR = 23.0\n",
      "Monthly_charges IQR = 66.43\n",
      "Total_charges IQR = 4721.05\n"
     ]
    }
   ],
   "source": [
    "# What is the inner quartile range of tenure? monthly charges? total charges?\n",
    "tenQ1 = telco['tenure'].quantile(0.25)\n",
    "tenQ3 = telco['tenure'].quantile(0.75)\n",
    "print('Tenure IQR = ' + str(tenQ3 - tenQ1))\n",
    "mcQ1 = telco['monthly_charges'].quantile(0.25)\n",
    "mcQ3 = telco['monthly_charges'].quantile(0.75)\n",
    "print('Monthly_charges IQR = ' + str(round(mcQ3 - mcQ1, 2)))\n",
    "tcQ1 = telco['total_charges'].quantile(0.25)\n",
    "tcQ3 = telco['total_charges'].quantile(0.75)\n",
    "print('Total_charges IQR = ' + str(round(tcQ3 - tcQ1, 2)))"
   ]
  },
  {
   "cell_type": "code",
   "execution_count": 14,
   "metadata": {},
   "outputs": [
    {
     "name": "stdout",
     "output_type": "stream",
     "text": [
      "customer_id         0\n",
      "tenure              0\n",
      "monthly_charges     0\n",
      "total_charges      10\n",
      "dtype: int64\n"
     ]
    }
   ],
   "source": [
    "# How many missing values are in each variable?\n",
    "print(telco.isnull().sum())"
   ]
  },
  {
   "cell_type": "code",
   "execution_count": 15,
   "metadata": {},
   "outputs": [
    {
     "name": "stdout",
     "output_type": "stream",
     "text": [
      "customer_id        0\n",
      "tenure             0\n",
      "monthly_charges    0\n",
      "total_charges      0\n",
      "dtype: int64\n"
     ]
    }
   ],
   "source": [
    "# Fill any missing values with 0.\n",
    "telco['total_charges'] = telco['total_charges'].fillna(0)\n",
    "print(telco.isnull().sum())"
   ]
  },
  {
   "cell_type": "code",
   "execution_count": 16,
   "metadata": {},
   "outputs": [
    {
     "data": {
      "text/plain": [
       "array([[<matplotlib.axes._subplots.AxesSubplot object at 0x1c23d9c630>]],\n",
       "      dtype=object)"
      ]
     },
     "execution_count": 16,
     "metadata": {},
     "output_type": "execute_result"
    },
    {
     "data": {
      "image/png": "[encoded data removed]",
      "text/plain": [
       "<Figure size 432x288 with 1 Axes>"
      ]
     },
     "metadata": {
      "needs_background": "light"
     },
     "output_type": "display_data"
    }
   ],
   "source": [
    "# Show the ditribution of monthly charges through a histogram\n",
    "telco.hist(column = 'monthly_charges', bins=20)"
   ]
  },
  {
   "cell_type": "code",
   "execution_count": 17,
   "metadata": {},
   "outputs": [
    {
     "data": {
      "text/html": [
       "<div>\n",
       "<style scoped>\n",
       "    .dataframe tbody tr th:only-of-type {\n",
       "        vertical-align: middle;\n",
       "    }\n",
       "\n",
       "    .dataframe tbody tr th {\n",
       "        vertical-align: top;\n",
       "    }\n",
       "\n",
       "    .dataframe thead th {\n",
       "        text-align: right;\n",
       "    }\n",
       "</style>\n",
       "<table border=\"1\" class=\"dataframe\">\n",
       "  <thead>\n",
       "    <tr style=\"text-align: right;\">\n",
       "      <th></th>\n",
       "      <th>tenure</th>\n",
       "      <th>monthly_charges</th>\n",
       "      <th>total_charges</th>\n",
       "    </tr>\n",
       "  </thead>\n",
       "  <tbody>\n",
       "    <tr>\n",
       "      <th>0</th>\n",
       "      <td>71</td>\n",
       "      <td>109.70</td>\n",
       "      <td>7904.25</td>\n",
       "    </tr>\n",
       "    <tr>\n",
       "      <th>1</th>\n",
       "      <td>63</td>\n",
       "      <td>84.65</td>\n",
       "      <td>5377.80</td>\n",
       "    </tr>\n",
       "    <tr>\n",
       "      <th>2</th>\n",
       "      <td>65</td>\n",
       "      <td>90.45</td>\n",
       "      <td>5957.90</td>\n",
       "    </tr>\n",
       "    <tr>\n",
       "      <th>3</th>\n",
       "      <td>54</td>\n",
       "      <td>45.20</td>\n",
       "      <td>2460.55</td>\n",
       "    </tr>\n",
       "    <tr>\n",
       "      <th>4</th>\n",
       "      <td>72</td>\n",
       "      <td>116.80</td>\n",
       "      <td>8456.75</td>\n",
       "    </tr>\n",
       "  </tbody>\n",
       "</table>\n",
       "</div>"
      ],
      "text/plain": [
       "   tenure  monthly_charges  total_charges\n",
       "0      71           109.70        7904.25\n",
       "1      63            84.65        5377.80\n",
       "2      65            90.45        5957.90\n",
       "3      54            45.20        2460.55\n",
       "4      72           116.80        8456.75"
      ]
     },
     "execution_count": 17,
     "metadata": {},
     "output_type": "execute_result"
    }
   ],
   "source": [
    "# Create a new dataframe that contains tenure, monthly charges, and total charges, but not the customer id.\n",
    "no_id_telco = telco.drop(columns='customer_id')\n",
    "no_id_telco.head()\n"
   ]
  },
  {
   "cell_type": "code",
   "execution_count": 18,
   "metadata": {},
   "outputs": [
    {
     "data": {
      "text/plain": [
       "Text(0.5, 1.0, 'Total_charges')"
      ]
     },
     "execution_count": 18,
     "metadata": {},
     "output_type": "execute_result"
    },
    {
     "data": {
      "image/png": "[encoded data removed]",
      "text/plain": [
       "<Figure size 864x720 with 3 Axes>"
      ]
     },
     "metadata": {
      "needs_background": "light"
     },
     "output_type": "display_data"
    }
   ],
   "source": [
    "# Create a box plot of each variable in your new dataframe. This should be a single chart with 3 categorical plots,\n",
    "# 1 each for tenure, monthly charges, total charges.\n",
    "plt.figure(figsize=(12,10))\n",
    "plt.suptitle('Boxplots of Telco')\n",
    "\n",
    "plt.subplot(131)\n",
    "sns.boxplot(data=telco['tenure'])\n",
    "plt.title('Tenure')\n",
    "\n",
    "plt.subplot(132)\n",
    "sns.boxplot(data=telco['monthly_charges'])\n",
    "plt.title('Monthly_charges')\n",
    "\n",
    "plt.subplot(133)\n",
    "sns.boxplot(data=telco['total_charges'])\n",
    "plt.title('Total_charges')"
   ]
  },
  {
   "cell_type": "code",
   "execution_count": 19,
   "metadata": {},
   "outputs": [
    {
     "data": {
      "text/html": [
       "<div>\n",
       "<style scoped>\n",
       "    .dataframe tbody tr th:only-of-type {\n",
       "        vertical-align: middle;\n",
       "    }\n",
       "\n",
       "    .dataframe tbody tr th {\n",
       "        vertical-align: top;\n",
       "    }\n",
       "\n",
       "    .dataframe thead th {\n",
       "        text-align: right;\n",
       "    }\n",
       "</style>\n",
       "<table border=\"1\" class=\"dataframe\">\n",
       "  <thead>\n",
       "    <tr style=\"text-align: right;\">\n",
       "      <th></th>\n",
       "      <th>customer_id</th>\n",
       "      <th>tenure</th>\n",
       "      <th>monthly_charges</th>\n",
       "      <th>total_charges</th>\n",
       "    </tr>\n",
       "  </thead>\n",
       "  <tbody>\n",
       "    <tr>\n",
       "      <th>0</th>\n",
       "      <td>0013-SMEOE</td>\n",
       "      <td>71</td>\n",
       "      <td>109.70</td>\n",
       "      <td>7904.25</td>\n",
       "    </tr>\n",
       "    <tr>\n",
       "      <th>1</th>\n",
       "      <td>0014-BMAQU</td>\n",
       "      <td>63</td>\n",
       "      <td>84.65</td>\n",
       "      <td>5377.80</td>\n",
       "    </tr>\n",
       "    <tr>\n",
       "      <th>2</th>\n",
       "      <td>0016-QLJIS</td>\n",
       "      <td>65</td>\n",
       "      <td>90.45</td>\n",
       "      <td>5957.90</td>\n",
       "    </tr>\n",
       "    <tr>\n",
       "      <th>3</th>\n",
       "      <td>0017-DINOC</td>\n",
       "      <td>54</td>\n",
       "      <td>45.20</td>\n",
       "      <td>2460.55</td>\n",
       "    </tr>\n",
       "    <tr>\n",
       "      <th>4</th>\n",
       "      <td>0017-IUDMW</td>\n",
       "      <td>72</td>\n",
       "      <td>116.80</td>\n",
       "      <td>8456.75</td>\n",
       "    </tr>\n",
       "  </tbody>\n",
       "</table>\n",
       "</div>"
      ],
      "text/plain": [
       "  customer_id  tenure  monthly_charges  total_charges\n",
       "0  0013-SMEOE      71           109.70        7904.25\n",
       "1  0014-BMAQU      63            84.65        5377.80\n",
       "2  0016-QLJIS      65            90.45        5957.90\n",
       "3  0017-DINOC      54            45.20        2460.55\n",
       "4  0017-IUDMW      72           116.80        8456.75"
      ]
     },
     "execution_count": 19,
     "metadata": {},
     "output_type": "execute_result"
    }
   ],
   "source": [
    "telco.head()"
   ]
  },
  {
   "cell_type": "code",
   "execution_count": 20,
   "metadata": {},
   "outputs": [],
   "source": [
    "# Split your data into a test and train dataset. Set the random_state to 123. You should end up with 4 dataframes: \n",
    "# X_train, X_test, y_train, y_test.\n",
    "X = telco.drop(['customer_id', 'total_charges'], axis=1)\n",
    "y = telco[['total_charges']]\n",
    "X_train, X_test, y_train, y_test = train_test_split(X, y, train_size=.80, random_state=123)"
   ]
  },
  {
   "cell_type": "code",
   "execution_count": 21,
   "metadata": {},
   "outputs": [
    {
     "name": "stdout",
     "output_type": "stream",
     "text": [
      "Train columns:  ['tenure', 'monthly_charges', 'total_charges']\n",
      "Train dimensions (rows, columns): (1356, 3)\n"
     ]
    }
   ],
   "source": [
    "train = pd.concat([X_train, y_train], axis=1)\n",
    "print(\"Train columns:  %s\" % list(train.columns))\n",
    "print(\"Train dimensions (rows, columns):\", train.shape)"
   ]
  },
  {
   "cell_type": "code",
   "execution_count": 22,
   "metadata": {},
   "outputs": [
    {
     "name": "stdout",
     "output_type": "stream",
     "text": [
      "Test columns:  ['tenure', 'monthly_charges', 'total_charges']\n",
      "Test dimensions (rows, columns): (339, 3)\n"
     ]
    }
   ],
   "source": [
    "test = pd.concat([X_test, y_test], axis=1)\n",
    "print(\"Test columns:  %s\" % list(test.columns))\n",
    "print(\"Test dimensions (rows, columns):\", test.shape)"
   ]
  },
  {
   "cell_type": "code",
   "execution_count": 23,
   "metadata": {},
   "outputs": [
    {
     "data": {
      "text/html": [
       "<div>\n",
       "<style scoped>\n",
       "    .dataframe tbody tr th:only-of-type {\n",
       "        vertical-align: middle;\n",
       "    }\n",
       "\n",
       "    .dataframe tbody tr th {\n",
       "        vertical-align: top;\n",
       "    }\n",
       "\n",
       "    .dataframe thead th {\n",
       "        text-align: right;\n",
       "    }\n",
       "</style>\n",
       "<table border=\"1\" class=\"dataframe\">\n",
       "  <thead>\n",
       "    <tr style=\"text-align: right;\">\n",
       "      <th></th>\n",
       "      <th>tenure</th>\n",
       "      <th>monthly_charges</th>\n",
       "    </tr>\n",
       "  </thead>\n",
       "  <tbody>\n",
       "    <tr>\n",
       "      <th>909</th>\n",
       "      <td>66</td>\n",
       "      <td>85.90</td>\n",
       "    </tr>\n",
       "    <tr>\n",
       "      <th>550</th>\n",
       "      <td>71</td>\n",
       "      <td>105.55</td>\n",
       "    </tr>\n",
       "    <tr>\n",
       "      <th>1173</th>\n",
       "      <td>60</td>\n",
       "      <td>110.60</td>\n",
       "    </tr>\n",
       "    <tr>\n",
       "      <th>5</th>\n",
       "      <td>72</td>\n",
       "      <td>101.30</td>\n",
       "    </tr>\n",
       "    <tr>\n",
       "      <th>1536</th>\n",
       "      <td>72</td>\n",
       "      <td>110.15</td>\n",
       "    </tr>\n",
       "  </tbody>\n",
       "</table>\n",
       "</div>"
      ],
      "text/plain": [
       "      tenure  monthly_charges\n",
       "909       66            85.90\n",
       "550       71           105.55\n",
       "1173      60           110.60\n",
       "5         72           101.30\n",
       "1536      72           110.15"
      ]
     },
     "execution_count": 23,
     "metadata": {},
     "output_type": "execute_result"
    }
   ],
   "source": [
    "X_train.head()"
   ]
  },
  {
   "cell_type": "code",
   "execution_count": 24,
   "metadata": {},
   "outputs": [
    {
     "name": "stdout",
     "output_type": "stream",
     "text": [
      "X & y train rows ARE equal\n",
      "X & y test rows ARE equal\n",
      "Number of columns in train & test ARE equal\n",
      "Train Split: 0.80\n",
      "Test Split: 0.20\n"
     ]
    }
   ],
   "source": [
    "if X_train.shape[0] == y_train.shape[0]:\n",
    "    print(\"X & y train rows ARE equal\")\n",
    "else:\n",
    "    print(\"X & y train rows ARE NOT equal\")\n",
    "\n",
    "\n",
    "if X_test.shape[0] == y_test.shape[0]:\n",
    "    print(\"X & y test rows ARE equal\")\n",
    "else:\n",
    "    print(\"X & y test rows ARE NOT equal\")\n",
    "\n",
    "if train.shape[1] == test.shape[1]:\n",
    "    print(\"Number of columns in train & test ARE equal\")\n",
    "else:\n",
    "    print(\"Number of columns in train & test ARE NOT equal\")\n",
    "\n",
    "train_split = train.shape[0] / (train.shape[0] + test.shape[0])\n",
    "test_split = test.shape[0] / (train.shape[0] + test.shape[0])\n",
    "\n",
    "print(\"Train Split: %.2f\" % train_split)\n",
    "print(\"Test Split: %.2f\" % test_split)"
   ]
  },
  {
   "cell_type": "code",
   "execution_count": 25,
   "metadata": {},
   "outputs": [
    {
     "data": {
      "image/png": "[encoded data removed]",
      "text/plain": [
       "<Figure size 540x540 with 12 Axes>"
      ]
     },
     "metadata": {
      "needs_background": "light"
     },
     "output_type": "display_data"
    }
   ],
   "source": [
    "# Using the in-sample data (X_train and y_train)\n",
    "# Create a scatterplot for each combination of variables.\n",
    "\n",
    "g = sns.PairGrid(train)\n",
    "g.map_diag(plt.hist)\n",
    "g.map_offdiag(plt.scatter);"
   ]
  },
  {
   "cell_type": "code",
   "execution_count": 26,
   "metadata": {},
   "outputs": [
    {
     "data": {
      "text/plain": [
       "<matplotlib.axes._subplots.AxesSubplot at 0x1c24564208>"
      ]
     },
     "execution_count": 26,
     "metadata": {},
     "output_type": "execute_result"
    },
    {
     "data": {
      "image/png": "[encoded data removed]",
      "text/plain": [
       "<Figure size 576x288 with 2 Axes>"
      ]
     },
     "metadata": {
      "needs_background": "light"
     },
     "output_type": "display_data"
    }
   ],
   "source": [
    "# Create a heatmap containing the 3 variables.\n",
    "plt.figure(figsize=(8,4))\n",
    "sns.heatmap(train.corr(), cmap='Greens', annot=True)"
   ]
  },
  {
   "cell_type": "code",
   "execution_count": 27,
   "metadata": {},
   "outputs": [
    {
     "data": {
      "text/plain": [
       "[['tenure', (0.6350021065102249, 5.692136817600413e-154)],\n",
       " ['monthly_charges', (0.9417149491320433, 0.0)]]"
      ]
     },
     "execution_count": 27,
     "metadata": {},
     "output_type": "execute_result"
    }
   ],
   "source": [
    "# Compute pearson's correlation coefficient and print it's value in the sentence \"Pearson's R is ____ with a \n",
    "# significance p-value of ____\"\n",
    "[[column, pearsonr(X_train[column], y_train.total_charges)] for column in X_train]\n",
    "# print('Pearson\\'s R is {:.2%} with a significance p_value of {:.2%.'.format(pearsonr(X_train[column]), pearsonr(y_train.total_charges)))\n"
   ]
  },
  {
   "cell_type": "code",
   "execution_count": 28,
   "metadata": {},
   "outputs": [],
   "source": [
    "# Train (aka fit) a linear regression model, modeling total charges as a linear function of tenure.\n",
    "lm1 = LinearRegression(fit_intercept=False)"
   ]
  },
  {
   "cell_type": "code",
   "execution_count": 29,
   "metadata": {},
   "outputs": [
    {
     "name": "stdout",
     "output_type": "stream",
     "text": [
      "LinearRegression(copy_X=True, fit_intercept=False, n_jobs=None,\n",
      "         normalize=False)\n"
     ]
    }
   ],
   "source": [
    "lm1.fit(X_train[['tenure']], y_train)\n",
    "print(lm1)"
   ]
  },
  {
   "cell_type": "code",
   "execution_count": 30,
   "metadata": {},
   "outputs": [
    {
     "name": "stdout",
     "output_type": "stream",
     "text": [
      "0.0\n"
     ]
    }
   ],
   "source": [
    "# What is the y-intercept of the regression line? Translate the intercept in plain english, i.e. what is means in \n",
    "# the context of the data.\n",
    "lm1_y_intercept = lm1.intercept_\n",
    "print(lm1_y_intercept)\n",
    "# The y_intercept is 0 as we are making our model work on the basis that a customer's total charges for their first month is $0."
   ]
  },
  {
   "cell_type": "code",
   "execution_count": 31,
   "metadata": {},
   "outputs": [
    {
     "name": "stdout",
     "output_type": "stream",
     "text": [
      "[[67.81557644]]\n"
     ]
    }
   ],
   "source": [
    "# What the slope of the regression line? Translate the slope in plain english, i.e. what is means in the context of the data.\n",
    "lm1_coefficients = lm1.coef_\n",
    "print(lm1_coefficients)\n",
    "# The slope of the line is 67.81 which is saying that our model says that for each month of tenure, the customer's estimated charge increase $67.81."
   ]
  },
  {
   "cell_type": "code",
   "execution_count": 32,
   "metadata": {},
   "outputs": [
    {
     "ename": "NameError",
     "evalue": "name 'tenure' is not defined",
     "output_type": "error",
     "traceback": [
      "\u001b[0;31m---------------------------------------------------------------------------\u001b[0m",
      "\u001b[0;31mNameError\u001b[0m                                 Traceback (most recent call last)",
      "\u001b[0;32m<ipython-input-32-c4ada4060a6e>\u001b[0m in \u001b[0;36m<module>\u001b[0;34m\u001b[0m\n\u001b[1;32m      1\u001b[0m \u001b[0;31m# Write the linear function in the form of y = mx + b using the parameters that were estimated from the algorithm\u001b[0m\u001b[0;34m\u001b[0m\u001b[0;34m\u001b[0m\u001b[0;34m\u001b[0m\u001b[0m\n\u001b[1;32m      2\u001b[0m \u001b[0;31m# and the variable names for y and x specific to your data.\u001b[0m\u001b[0;34m\u001b[0m\u001b[0;34m\u001b[0m\u001b[0;34m\u001b[0m\u001b[0m\n\u001b[0;32m----> 3\u001b[0;31m \u001b[0mtotal_charges\u001b[0m \u001b[0;34m=\u001b[0m \u001b[0;36m67.81\u001b[0m\u001b[0;34m*\u001b[0m\u001b[0mtenure\u001b[0m\u001b[0;34m\u001b[0m\u001b[0;34m\u001b[0m\u001b[0m\n\u001b[0m",
      "\u001b[0;31mNameError\u001b[0m: name 'tenure' is not defined"
     ]
    }
   ],
   "source": [
    "# Write the linear function in the form of y = mx + b using the parameters that were estimated from the algorithm \n",
    "# and the variable names for y and x specific to your data.\n",
    "total_charges = 67.81*tenure"
   ]
  },
  {
   "cell_type": "code",
   "execution_count": 33,
   "metadata": {},
   "outputs": [],
   "source": [
    "# Test your model on the training sample. That is, use your newly fit model to predict the total charges using tenure.\n",
    "lm1_pred = lm1.predict(X_train[['tenure']])"
   ]
  },
  {
   "cell_type": "code",
   "execution_count": 34,
   "metadata": {},
   "outputs": [
    {
     "name": "stdout",
     "output_type": "stream",
     "text": [
      "lm1_pred\n",
      " mse:4.21e+06\n",
      "  37.46% of the variance in the customer's total_charges can be explained by tenure.\n",
      " mae:1.73e+03\n"
     ]
    }
   ],
   "source": [
    "mse_lm1_pred = mean_squared_error(y_train, lm1_pred)\n",
    "print('lm1_pred\\n mse:{:.3}'.format(mse_lm1_pred))\n",
    "r2_lm1_pred = r2_score(y_train, lm1_pred)\n",
    "print('  {:.2%} of the variance in the customer\\'s total_charges can be explained by tenure.'.format(r2_lm1_pred))\n",
    "mae_lm1_pred = median_absolute_error(y_train, lm1_pred)\n",
    "print(' mae:{:.3}'.format(mae_lm1_pred))"
   ]
  },
  {
   "cell_type": "code",
   "execution_count": 35,
   "metadata": {},
   "outputs": [],
   "source": [
    "# Using the out-of-sample data (X_test, y_test)\n",
    "# Test your model on the test sample.\n",
    "test_lm1_pred = lm1.predict(X_test[['tenure']])"
   ]
  },
  {
   "cell_type": "code",
   "execution_count": 36,
   "metadata": {},
   "outputs": [
    {
     "name": "stdout",
     "output_type": "stream",
     "text": [
      "test_lm1_pred\n",
      " mse:3.88e+06\n",
      "  38.34% of the variance in the customer's total_charges can be explained by tenure.\n",
      " mae:1.59e+03\n"
     ]
    }
   ],
   "source": [
    "mse_test_lm1_pred = mean_squared_error(y_test, test_lm1_pred)\n",
    "print('test_lm1_pred\\n mse:{:.3}'.format(mse_test_lm1_pred))\n",
    "r2_test_lm1_pred = r2_score(y_test, test_lm1_pred)\n",
    "print('  {:.2%} of the variance in the customer\\'s total_charges can be explained by tenure.'.format(r2_test_lm1_pred))\n",
    "mae_test_lm1_pred = median_absolute_error(y_test, test_lm1_pred)\n",
    "print(' mae:{:.3}'.format(mae_test_lm1_pred))\n"
   ]
  },
  {
   "cell_type": "code",
   "execution_count": 37,
   "metadata": {},
   "outputs": [],
   "source": [
    "# Calculate the p-value of the regressor for the train and test sample. Hint: f_regression\n",
    "# sklearn.feature_selection.f_regression(X, y, center=True)\n",
    "from sklearn.feature_selection import f_regression"
   ]
  },
  {
   "cell_type": "code",
   "execution_count": 38,
   "metadata": {},
   "outputs": [
    {
     "name": "stderr",
     "output_type": "stream",
     "text": [
      "/usr/local/anaconda3/lib/python3.7/site-packages/sklearn/utils/validation.py:761: DataConversionWarning: A column-vector y was passed when a 1d array was expected. Please change the shape of y to (n_samples, ), for example using ravel().\n",
      "  y = column_or_1d(y, warn=True)\n"
     ]
    },
    {
     "data": {
      "text/plain": [
       "(array([231.6718391]), array([3.48651193e-40]))"
      ]
     },
     "execution_count": 38,
     "metadata": {},
     "output_type": "execute_result"
    }
   ],
   "source": [
    "f_regression(X_test[['tenure']], y_test)"
   ]
  },
  {
   "cell_type": "code",
   "execution_count": 39,
   "metadata": {},
   "outputs": [
    {
     "data": {
      "text/plain": [
       "Text(0.5, 1.0, 'Predicted vs Actual Total Charges')"
      ]
     },
     "execution_count": 39,
     "metadata": {},
     "output_type": "execute_result"
    },
    {
     "data": {
      "image/png": "[encoded data removed]",
      "text/plain": [
       "<Figure size 455.2x360 with 1 Axes>"
      ]
     },
     "metadata": {
      "needs_background": "light"
     },
     "output_type": "display_data"
    }
   ],
   "source": [
    "# # Create a scatter plot of the predicted values versus the actual values in the test sample.\n",
    "\n",
    "pd.DataFrame({'actual' : y_test.total_charges,\n",
    "              'test_lm1' : test_lm1_pred.ravel()})\\\n",
    "    .melt(id_vars=['actual'], var_name='model', value_name='prediction')\\\n",
    "    .pipe((sns.relplot, 'data'), x='actual', y='prediction', hue='model')\n",
    "plt.plot\n",
    "plt.title('Predicted vs Actual Total Charges')"
   ]
  },
  {
   "cell_type": "code",
   "execution_count": 40,
   "metadata": {},
   "outputs": [],
   "source": [
    "from numpy.polynomial.polynomial import polyfit"
   ]
  },
  {
   "cell_type": "code",
   "execution_count": 41,
   "metadata": {},
   "outputs": [
    {
     "data": {
      "image/png": "[encoded data removed]",
      "text/plain": [
       "<Figure size 476.075x360 with 1 Axes>"
      ]
     },
     "metadata": {
      "needs_background": "light"
     },
     "output_type": "display_data"
    }
   ],
   "source": [
    "# Create a scatter plot of the actual values of x and y in the test sample with the regression line layered over.\n",
    "pd.DataFrame({'tenure' : X_test.tenure,\n",
    "              'test_actuals' : y_test.total_charges})\\\n",
    "    .melt(id_vars=['tenure'], var_name='model', value_name='total_charges')\\\n",
    "    .pipe((sns.relplot, 'data'), x='tenure', y='total_charges', hue='model')\n",
    "plt.plot\n",
    "plt.title('Tenure vs Actual Total Charges')\n",
    "x = X_test.tenure\n",
    "y = y_test.total_charges\n",
    "m = 67.8155\n",
    "b = 0\n",
    "plt.plot(x, b + m * x, '-')\n",
    "plt.show()"
   ]
  },
  {
   "cell_type": "code",
   "execution_count": 42,
   "metadata": {},
   "outputs": [
    {
     "data": {
      "text/plain": [
       "Text(0, 0.5, 'Residuals')"
      ]
     },
     "execution_count": 42,
     "metadata": {},
     "output_type": "execute_result"
    },
    {
     "data": {
      "image/png": "[encoded data removed]",
      "text/plain": [
       "<Figure size 432x288 with 1 Axes>"
      ]
     },
     "metadata": {
      "needs_background": "light"
     },
     "output_type": "display_data"
    }
   ],
   "source": [
    "# Create a scatter plot of the residuals (x axis: predicted values of final grade, y axis: the residual values \n",
    "# (remember definition of residual from previous lesson). Layer over it a horizonal line that represents no residual.\n",
    "plt.scatter(test_lm1_pred, test_lm1_pred - y_test, c='g', s=40)\n",
    "plt.hlines(y=0, xmin=-700, xmax=5100)\n",
    "plt.title('Residual Plot')\n",
    "plt.ylabel('Residuals')"
   ]
  },
  {
   "cell_type": "code",
   "execution_count": null,
   "metadata": {},
   "outputs": [],
   "source": []
  }
 ],
 "metadata": {
  "kernelspec": {
   "display_name": "Python 3",
   "language": "python",
   "name": "python3"
  },
  "language_info": {
   "codemirror_mode": {
    "name": "ipython",
    "version": 3
   },
   "file_extension": ".py",
   "mimetype": "text/x-python",
   "name": "python",
   "nbconvert_exporter": "python",
   "pygments_lexer": "ipython3",
   "version": "3.7.1"
  }
 },
 "nbformat": 4,
 "nbformat_minor": 2
}
